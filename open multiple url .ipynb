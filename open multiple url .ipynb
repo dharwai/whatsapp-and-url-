{
 "cells": [
  {
   "cell_type": "code",
   "execution_count": 1,
   "id": "3d9505b3",
   "metadata": {},
   "outputs": [],
   "source": [
    "# import time\n",
    "# import webbrowser\n",
    "# with open(\"f.txt\") as f:\n",
    "#     for url in f:\n",
    "#         webbrowser.open_new_tab(url)\n",
    "#         time.sleep(6)\n"
   ]
  },
  {
   "cell_type": "code",
   "execution_count": 1,
   "id": "aec237d0",
   "metadata": {},
   "outputs": [],
   "source": [
    "import time\n",
    "import webbrowser\n",
    "with open(\"dd.txt\") as f:\n",
    "    for url in f:\n",
    "        webbrowser.register('opera', None, webbrowser.BackgroundBrowser(\"C:/Program Files (x86)/Opera/opera.exe\"))\n",
    "        webbrowser.get(\"opera\").open_new_tab(url)\n",
    "        time.sleep(8)\n"
   ]
  },
  {
   "cell_type": "code",
   "execution_count": 2,
   "id": "212cbd9e",
   "metadata": {},
   "outputs": [],
   "source": [
    "import time\n",
    "import webbrowser\n",
    "with open(\"t.txt\") as f:\n",
    "    for url in f:\n",
    "        webbrowser.register('opera', None, webbrowser.BackgroundBrowser(\"C:/Program Files (x86)/Opera/opera.exe\"))\n",
    "        webbrowser.get(\"opera\").open_new_tab(url)\n",
    "        time.sleep(5)\n"
   ]
  },
  {
   "cell_type": "code",
   "execution_count": 3,
   "id": "bb12f0c0",
   "metadata": {},
   "outputs": [],
   "source": [
    "# import time\n",
    "# import webbrowser\n",
    "# with open(\"d.txt\") as f:\n",
    "#     for url in f:\n",
    "#         webbrowser.register('opera', None, webbrowser.BackgroundBrowser(\"C:/Program Files (x86)/Opera/opera.exe\"))\n",
    "#         webbrowser.get(\"opera\").open_new_tab(url)\n",
    "#         time.sleep(20)\n"
   ]
  },
  {
   "cell_type": "code",
   "execution_count": null,
   "id": "e7338055",
   "metadata": {},
   "outputs": [],
   "source": [
    "# import time\n",
    "# import webbrowser\n",
    "# with open(\"e.txt\") as f:\n",
    "#     for url in f:\n",
    "#         webbrowser.register('opera', None, webbrowser.BackgroundBrowser(\"C:/Program Files (x86)/Opera/opera.exe\"))\n",
    "#         webbrowser.get(\"opera\").open_new_tab(url)\n",
    "#         time.sleep(20)\n"
   ]
  },
  {
   "cell_type": "code",
   "execution_count": null,
   "id": "26204089",
   "metadata": {},
   "outputs": [],
   "source": [
    "# import time\n",
    "# import webbrowser\n",
    "# with open(\"e.txt\") as f:\n",
    "#     for url in f:\n",
    "#         webbrowser.register('opera', None, webbrowser.BackgroundBrowser(\"C:/Program Files (x86)/Opera/opera.exe\"))\n",
    "#         webbrowser.get(\"opera\").open_new_tab(url)\n",
    "#         time.sleep(20)\n"
   ]
  },
  {
   "cell_type": "code",
   "execution_count": null,
   "id": "d8c8628e",
   "metadata": {},
   "outputs": [],
   "source": [
    "\n",
    "# import time\n",
    "# import webbrowser\n",
    "# with open(\"d.txt\") as f:\n",
    "#     for url in f:\n",
    "#         webbrowser.register('opera', None, webbrowser.BackgroundBrowser(\"C:/Program Files/Mozilla Firefox/firefox.exe\"))\n",
    "#         webbrowser.get(\"opera\").open_new_tab(url)\n",
    "#         time.sleep(20)\n"
   ]
  },
  {
   "cell_type": "code",
   "execution_count": null,
   "id": "0142acd0",
   "metadata": {},
   "outputs": [],
   "source": [
    "# import time\n",
    "# import webbrowser\n",
    "# with open(\"d.txt\") as f:\n",
    "#     for url in f:\n",
    "#         webbrowser.register('opera', None, webbrowser.BackgroundBrowser(\"C:/Program Files/Google/Chrome/Application/chrome.exe\"))\n",
    "#         webbrowser.get(\"opera\").open_new_tab(url)\n",
    "#         time.sleep(25)\n",
    "\n"
   ]
  },
  {
   "cell_type": "code",
   "execution_count": null,
   "id": "95be1826",
   "metadata": {},
   "outputs": [],
   "source": [
    "# import time\n",
    "# import webbrowser\n",
    "# with open(\"d.txt\") as f:\n",
    "#     for url in f:\n",
    "#         webbrowser.register('msEdge', None, webbrowser.BackgroundBrowser(\"C:/Program Files (x86)/Microsoft/Edge/Application/msedge.exe\"))\n",
    "#         webbrowser.get(\"msEdge\").open_new_tab(url)\n",
    "#         time.sleep(5)\n",
    "\n",
    "\n",
    "\n",
    "\n"
   ]
  },
  {
   "cell_type": "code",
   "execution_count": 2,
   "id": "a51fab95",
   "metadata": {},
   "outputs": [],
   "source": [
    "import time\n",
    "import webbrowser\n",
    "with open(\"t.txt\") as f:\n",
    "    for url in f:\n",
    "        webbrowser.register('opera', None, webbrowser.BackgroundBrowser(\"C:/Program Files (x86)/Opera/opera.exe\"))\n",
    "        webbrowser.get(\"opera\").open_new_tab(url)\n",
    "        time.sleep(13)\n"
   ]
  },
  {
   "cell_type": "code",
   "execution_count": 2,
   "id": "f8af1095",
   "metadata": {},
   "outputs": [
    {
     "name": "stdout",
     "output_type": "stream",
     "text": [
      "2\n"
     ]
    }
   ],
   "source": [
    "\n",
    "def cntgloves(arr, n):\n",
    " \n",
    "    # To store the required count\n",
    "    count = 0\n",
    " \n",
    "    # Sort the original array\n",
    "    arr.sort()\n",
    "    i = 0\n",
    "    while i < (n-1):\n",
    " \n",
    "        # A valid pair is found\n",
    "        if (arr[i] == arr[i + 1]):\n",
    "            count += 1\n",
    " \n",
    "            # Skip the elements of\n",
    "            # the current pair\n",
    "            i = i + 2\n",
    " \n",
    "        # Current elements doesn't make\n",
    "        # a valid pair with any other element\n",
    "        else:\n",
    "            i += 1\n",
    " \n",
    "    return count\n",
    " \n",
    " \n",
    "# Driver code\n",
    "if __name__ == \"__main__\":\n",
    " \n",
    "    arr = [6, 5, 2, 3, 5, 2, 2, 1]\n",
    "    n = len(arr)\n",
    " \n",
    "    # Function call\n",
    "    print(cntgloves(arr, n))"
   ]
  },
  {
   "cell_type": "code",
   "execution_count": 3,
   "id": "46c7f70f",
   "metadata": {},
   "outputs": [
    {
     "name": "stdout",
     "output_type": "stream",
     "text": [
      "1\n"
     ]
    }
   ],
   "source": [
    "def countPairs(arr, n): \n",
    "  \n",
    "    ans = 0\n",
    "  \n",
    "    # for each index i and j \n",
    "    for i in range(0 , n): \n",
    "        for j in range(i + 1, n): \n",
    "  \n",
    "            # finding the index  \n",
    "            # with same value but \n",
    "            # different index. \n",
    "            if (arr[i] == arr[j]): \n",
    "                ans += 1\n",
    "    return ans \n",
    "  \n",
    "# Driven Code \n",
    "arr = [1, 1, 2 ] \n",
    "n = len(arr) \n",
    "print(countPairs(arr, n)) "
   ]
  },
  {
   "cell_type": "code",
   "execution_count": 4,
   "id": "f66ff5de",
   "metadata": {},
   "outputs": [
    {
     "name": "stdout",
     "output_type": "stream",
     "text": [
      "2\n"
     ]
    }
   ],
   "source": [
    "def solution(arr, n): \n",
    "  \n",
    "    ans = 0\n",
    "  \n",
    "    # for each index i and j \n",
    "    for i in range(0 , n): \n",
    "        for j in range(i + 1, n): \n",
    "  \n",
    "            # finding the index  \n",
    "            # with same value but \n",
    "            # different index. \n",
    "            if (arr[i] == arr[j]): \n",
    "                ans += 1\n",
    "    return ans \n",
    "  \n",
    "# Driven Code \n",
    "arr = [1,2,2,1] \n",
    "n = len(arr) \n",
    "print(solution(arr, n)) "
   ]
  },
  {
   "cell_type": "code",
   "execution_count": 6,
   "id": "20807c9c",
   "metadata": {},
   "outputs": [
    {
     "name": "stdout",
     "output_type": "stream",
     "text": [
      "cdility\n"
     ]
    }
   ],
   "source": [
    "def solution(S):\n",
    "    # Implement your solution here\n",
    "     \n",
    "    l = len(S)\n",
    "    ans = \"\"\n",
    " \n",
    "    # iterate the string\n",
    "    for i in range (l-1):\n",
    " \n",
    "        # first point where s[i]>s[i+1]\n",
    "        if (S[i] > S[i + 1]):\n",
    " \n",
    "            # append the string without\n",
    "            # i-th character in it\n",
    "            for j in range (l):\n",
    "                if (i != j):\n",
    "                    ans += S[j]\n",
    "             \n",
    "            return ans\n",
    " \n",
    "    # leave the last character\n",
    "    ans = S[0: l - 1]\n",
    "    return ans\n",
    " \n",
    "# Driver Code\n",
    "if __name__ == \"__main__\":\n",
    " \n",
    "    S = \"codility\"\n",
    " \n",
    "    print (solution(S))"
   ]
  },
  {
   "cell_type": "code",
   "execution_count": null,
   "id": "6d457982",
   "metadata": {},
   "outputs": [],
   "source": []
  },
  {
   "cell_type": "code",
   "execution_count": null,
   "id": "c1a43e93",
   "metadata": {},
   "outputs": [],
   "source": []
  },
  {
   "cell_type": "code",
   "execution_count": 7,
   "id": "e037eb90",
   "metadata": {},
   "outputs": [
    {
     "name": "stdout",
     "output_type": "stream",
     "text": [
      "10\n"
     ]
    }
   ],
   "source": [
    "def solution(file_object):\n",
    "    fact = 1\n",
    "    for i in range(2,file_object+ 1):\n",
    "        fact *= i\n",
    "    return fact\n",
    " \n",
    "# Function to return the count of distinct\n",
    "# (N + M) digit numbers having N 0's\n",
    "# and  M 1's with no leading zeros\n",
    "def findPermuatation(N, M):\n",
    "    permutation = (solution(N + M - 1) //\n",
    "                  (solution(N) * solution(M - 1)))\n",
    "    return permutation\n",
    " \n",
    "# Driver code\n",
    "N = 3; M = 3\n",
    "print(findPermuatation(N, M))"
   ]
  },
  {
   "cell_type": "code",
   "execution_count": 9,
   "id": "97173875",
   "metadata": {},
   "outputs": [
    {
     "ename": "SyntaxError",
     "evalue": "unexpected EOF while parsing (Temp/ipykernel_5464/831321725.py, line 13)",
     "output_type": "error",
     "traceback": [
      "\u001b[1;36m  File \u001b[1;32m\"C:\\Users\\RAJESH~1\\AppData\\Local\\Temp/ipykernel_5464/831321725.py\"\u001b[1;36m, line \u001b[1;32m13\u001b[0m\n\u001b[1;33m    print(findPermuatation(N, M)\u001b[0m\n\u001b[1;37m                                ^\u001b[0m\n\u001b[1;31mSyntaxError\u001b[0m\u001b[1;31m:\u001b[0m unexpected EOF while parsing\n"
     ]
    }
   ],
   "source": [
    "def solution(file_object):\n",
    "    fact = 1\n",
    "    for i in range(2,file_object+ 1):\n",
    "        fact *= i\n",
    "    return fact\n",
    " \n",
    "def findPermuatation(N, M):\n",
    "    permutation = (solution(N + M - 1) //\n",
    "                  (solution(N) * solution(M - 1)))\n",
    "    return permutation\n",
    "\n",
    "N = 3; M = 3\n",
    "print(findPermuatation(N, M))"
   ]
  },
  {
   "cell_type": "code",
   "execution_count": 11,
   "id": "cdd7aea3",
   "metadata": {},
   "outputs": [
    {
     "name": "stdout",
     "output_type": "stream",
     "text": [
      "10\n"
     ]
    }
   ],
   "source": [
    "def solution(file_object):\n",
    "    fact = 1\n",
    "    for i in range(2,file_object+ 1):\n",
    "        fact *= i\n",
    "    return fact\n",
    " \n",
    "def findPermuatation(N, M):\n",
    "    permutation = (solution(N + M - 1) //\n",
    "                  (solution(N) * solution(M - 1)))\n",
    "    return permutation\n",
    "\n",
    "N = 3; M = 3\n",
    "print(findPermuatation(N,M))"
   ]
  },
  {
   "cell_type": "code",
   "execution_count": null,
   "id": "45142c94",
   "metadata": {},
   "outputs": [],
   "source": []
  }
 ],
 "metadata": {
  "kernelspec": {
   "display_name": "Python 3 (ipykernel)",
   "language": "python",
   "name": "python3"
  },
  "language_info": {
   "codemirror_mode": {
    "name": "ipython",
    "version": 3
   },
   "file_extension": ".py",
   "mimetype": "text/x-python",
   "name": "python",
   "nbconvert_exporter": "python",
   "pygments_lexer": "ipython3",
   "version": "3.9.7"
  },
  "vscode": {
   "interpreter": {
    "hash": "1c8c047f826c1ab273e934b31e69d75c40c19c33456f239d60d7612cacb666c7"
   }
  }
 },
 "nbformat": 4,
 "nbformat_minor": 5
}
