{
 "cells": [
  {
   "cell_type": "markdown",
   "id": "77ef0cb6",
   "metadata": {},
   "source": [
    "# in this you can send message in whats or fb means where your cursor.\n",
    "#"
   ]
  },
  {
   "cell_type": "code",
   "execution_count": null,
   "id": "de38ea6f",
   "metadata": {},
   "outputs": [],
   "source": [
    "import pyautogui\n",
    "import time\n",
    "while True:\n",
    "    time.sleep(5)\n",
    "    pyautogui.typewrite(\"yes\")\n",
    "    pyautogui.press(\"enter\")"
   ]
  },
  {
   "cell_type": "raw",
   "id": "9e9e2f6c",
   "metadata": {},
   "source": []
  },
  {
   "cell_type": "markdown",
   "id": "3504544d",
   "metadata": {},
   "source": [
    "# whatspp auto message send on number"
   ]
  },
  {
   "cell_type": "code",
   "execution_count": null,
   "id": "fdf31cd7",
   "metadata": {},
   "outputs": [],
   "source": [
    "import time\n",
    "import pywhatkit\n",
    "pywhatkit.sendwhatmsg('+39xxxxxxx', 'your message', 20, 55)\n",
    "#20,55 is time like 8:55pm\n",
    "\n"
   ]
  },
  {
   "cell_type": "code",
   "execution_count": null,
   "id": "96f4aaab",
   "metadata": {},
   "outputs": [],
   "source": []
  },
  {
   "cell_type": "code",
   "execution_count": null,
   "id": "7b19fdbb",
   "metadata": {},
   "outputs": [],
   "source": []
  },
  {
   "cell_type": "markdown",
   "id": "aa7ea107",
   "metadata": {},
   "source": []
  },
  {
   "cell_type": "raw",
   "id": "2125a945",
   "metadata": {},
   "source": []
  },
  {
   "cell_type": "raw",
   "id": "18e95c07",
   "metadata": {},
   "source": []
  },
  {
   "cell_type": "code",
   "execution_count": null,
   "id": "b844194a",
   "metadata": {},
   "outputs": [],
   "source": []
  },
  {
   "cell_type": "markdown",
   "id": "fd0ab77b",
   "metadata": {},
   "source": []
  },
  {
   "cell_type": "raw",
   "id": "e899b467",
   "metadata": {},
   "source": []
  },
  {
   "cell_type": "raw",
   "id": "12f495c2",
   "metadata": {},
   "source": []
  },
  {
   "cell_type": "code",
   "execution_count": null,
   "id": "7b587bd7",
   "metadata": {},
   "outputs": [],
   "source": []
  },
  {
   "cell_type": "markdown",
   "id": "9af026f2",
   "metadata": {},
   "source": []
  },
  {
   "cell_type": "raw",
   "id": "2e6e4001",
   "metadata": {},
   "source": []
  },
  {
   "cell_type": "raw",
   "id": "33c769e1",
   "metadata": {},
   "source": []
  },
  {
   "cell_type": "code",
   "execution_count": null,
   "id": "a158e660",
   "metadata": {},
   "outputs": [],
   "source": []
  },
  {
   "cell_type": "markdown",
   "id": "ff351243",
   "metadata": {},
   "source": []
  },
  {
   "cell_type": "raw",
   "id": "37b20862",
   "metadata": {},
   "source": []
  },
  {
   "cell_type": "raw",
   "id": "8ad51f1d",
   "metadata": {},
   "source": []
  },
  {
   "cell_type": "code",
   "execution_count": null,
   "id": "d65db6e2",
   "metadata": {},
   "outputs": [],
   "source": [
    "import pyautogui\n",
    "import time\n",
    "while True:\n",
    "    time.sleep(5)\n",
    "    pyautogui.typewrite(\"Harami kanjar losi\")\n",
    "    pyautogui.press(\"enter\")"
   ]
  },
  {
   "cell_type": "markdown",
   "id": "0fab38d5",
   "metadata": {},
   "source": []
  },
  {
   "cell_type": "raw",
   "id": "84a7cd45",
   "metadata": {},
   "source": []
  },
  {
   "cell_type": "code",
   "execution_count": null,
   "id": "9f5db7ea",
   "metadata": {},
   "outputs": [],
   "source": [
    "e\n",
    "hello"
   ]
  },
  {
   "cell_type": "code",
   "execution_count": null,
   "id": "7abf8a44",
   "metadata": {},
   "outputs": [],
   "source": [
    "hello\n"
   ]
  }
 ],
 "metadata": {
  "kernelspec": {
   "display_name": "Python 3 (ipykernel)",
   "language": "python",
   "name": "python3"
  },
  "language_info": {
   "codemirror_mode": {
    "name": "ipython",
    "version": 3
   },
   "file_extension": ".py",
   "mimetype": "text/x-python",
   "name": "python",
   "nbconvert_exporter": "python",
   "pygments_lexer": "ipython3",
   "version": "3.9.7"
  }
 },
 "nbformat": 4,
 "nbformat_minor": 5
}
